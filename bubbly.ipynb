{
 "cells": [
  {
   "cell_type": "code",
   "execution_count": 1,
   "metadata": {},
   "outputs": [],
   "source": [
    "# this is how they taught us buble sort in school\n",
    "def bubble_sort(list: iter) -> iter:\n",
    "    local_list = list.copy()\n",
    "    for i in range(len(local_list) - 1):\n",
    "        for j in range(len(local_list[i+1:])):\n",
    "            if local_list[i] > local_list[i+j]:\n",
    "                tmp = local_list[i]\n",
    "                local_list[i] = local_list[i+j]\n",
    "                local_list[i+j] = tmp\n",
    "            \n",
    "    return local_list"
   ]
  },
  {
   "cell_type": "code",
   "execution_count": 2,
   "metadata": {},
   "outputs": [
    {
     "output_type": "stream",
     "name": "stdout",
     "text": "[1, 2, 3, 4, 5, 6, 7, 8, 9, 10]\n"
    }
   ],
   "source": [
    "print(bubble_sort([2, 8, 1, 7, 9, 3, 6, 4, 5, 10]))"
   ]
  }
 ],
 "metadata": {
  "language_info": {
   "codemirror_mode": {
    "name": "ipython",
    "version": 3
   },
   "file_extension": ".py",
   "mimetype": "text/x-python",
   "name": "python",
   "nbconvert_exporter": "python",
   "pygments_lexer": "ipython3",
   "version": "3.7.7-final"
  },
  "orig_nbformat": 2,
  "kernelspec": {
   "name": "python37764bit37ff7d2212ef408bae420ebcb42c4598",
   "display_name": "Python 3.7.7 64-bit"
  }
 },
 "nbformat": 4,
 "nbformat_minor": 2
}